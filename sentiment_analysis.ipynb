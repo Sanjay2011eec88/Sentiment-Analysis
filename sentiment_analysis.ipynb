{
 "cells": [
  {
   "cell_type": "code",
   "execution_count": 18,
   "metadata": {
    "collapsed": true
   },
   "outputs": [],
   "source": [
    "import tweepy\n",
    "import re\n",
    "import pickle"
   ]
  },
  {
   "cell_type": "code",
   "execution_count": 19,
   "metadata": {
    "collapsed": true
   },
   "outputs": [],
   "source": [
    "from tweepy import OAuthHandler  # Performs authentication job"
   ]
  },
  {
   "cell_type": "code",
   "execution_count": 20,
   "metadata": {
    "collapsed": true
   },
   "outputs": [],
   "source": [
    "from config import consumer_key, consumer_secret, access_secret, access_token"
   ]
  },
  {
   "cell_type": "code",
   "execution_count": 65,
   "metadata": {
    "collapsed": false
   },
   "outputs": [],
   "source": [
    "auth = OAuthHandler(consumer_key, consumer_secret)\n",
    "auth.set_access_token(access_token, access_secret)"
   ]
  },
  {
   "cell_type": "code",
   "execution_count": 93,
   "metadata": {
    "collapsed": false
   },
   "outputs": [],
   "source": [
    "args = ['facebook']\n",
    "api = tweepy.API(auth, timeout=10)"
   ]
  },
  {
   "cell_type": "code",
   "execution_count": 94,
   "metadata": {
    "collapsed": false
   },
   "outputs": [],
   "source": [
    "#Fetching real time tweeets\n",
    "list_tweets = []\n",
    "\n",
    "query = args[0]\n",
    "\n",
    "if len(args) > 0:\n",
    "    for status in tweepy.Cursor(api.search, q=query+\" -filter:retweets\", lang=\"en\", result_type='recent').items(100):\n",
    "        list_tweets.append(status.text)\n"
   ]
  },
  {
   "cell_type": "code",
   "execution_count": 95,
   "metadata": {
    "collapsed": false
   },
   "outputs": [
    {
     "data": {
      "text/plain": [
       "[u'Hope to see you for some v nice new music by @sylvlim, @lararoseagar, Linda Catlin Smith, J\\xfcrg Frey and myself this\\u2026 https://t.co/2Z4kNRcK83',\n",
       " u\"\\U0001f340\\U0001f33e\\u2618Thank God that we can gather in God's love, no barriers and we love each other, Let's worship God with our heart\\u2026 https://t.co/hVzBXTZsnr\",\n",
       " u'Join us for coffee and chat at 10am  today at Gatehouse Coffee Roasters.  Todays History Cafe theme is Renfrewshire\\u2026 https://t.co/5Jk5pzEqRS',\n",
       " u\"We've had Boris bridges, bikes and buses and, now, here comes the bungs! https://t.co/8H3SoavdB3\",\n",
       " u'Our 1st PTA Meeting. Thank you Parents \\U0001f49b\\nGrade 6 - Howlite\\nS.Y. 2019-2020 \\u2014 at Caruhatan West Elementary School https://t.co/GZ9dIIzsTN',\n",
       " u'Building a track...\\nGuitar, Bass, sampler and voice...\\nSimple...\\n\\nA year from now\\n\\nFacebook and soundcloud: /deejay\\u2026 https://t.co/sZCeow4SLX',\n",
       " u'A5 Memo Notebook Bottle\\n\\nhttps://t.co/OnhCSxZyHp https://t.co/rkE26NdXI4 https://t.co/S7BReB9b6y',\n",
       " u'delay, set-back and barrier https://t.co/nosKghYTSK',\n",
       " u'Yes Mike https://t.co/LVShkhveNe',\n",
       " u'Any Confirmation https://t.co/VoyFiwy846',\n",
       " u'Danny NelliganDanny. omfg. this guy is hilarious. https://t.co/i3m5jfoW0Y',\n",
       " u'Not that there will be owt good on anyway ... but if it helps the pensioners fight ... then it\\u2019s worth the cause. https://t.co/eReV38VXhb',\n",
       " u\"What Facebook's Cryptocurrency Means: 6 Predictions https://t.co/GRzHBIcQvq https://t.co/aygKvCgzJW\",\n",
       " u'BIG NEWS! https://t.co/6Dple3nDnc',\n",
       " u'yummyyy https://t.co/pJhlp5nafK',\n",
       " u'@86ed_ttv Something like that is prolly best done on like Twitter Facebook or instagram',\n",
       " u'https://t.co/CMdyqaZYx5  we need @eddiepence  ghost hunter',\n",
       " u'My seventh syawal / eid fitr be like... https://t.co/w10lvnOSxH',\n",
       " u'Your morning cheee! https://t.co/Wlk0uInvKH',\n",
       " u'@MONROEWKYC \\nSomeone  shared  this on Facebook https://t.co/BqqarmAwRe',\n",
       " u'Facebook Marketing in 2019: A Study of 777M Facebook Posts \\n\\nAn awesome\\u200b super in-depth article by @Brian_G_Peters\\u2026 https://t.co/xNwN1vCawI',\n",
       " u'subscribe to: https://t.co/KIiFhyNtms https://t.co/0FBSkD5GQ1',\n",
       " u'@WholesomeMeme Get this shite banter back to Facebook where it belongs thank you',\n",
       " u\"A viewer asked me a question that got me thinking. I can't wait to hear their answer \\U0001f388such is what gives me steps t\\u2026 https://t.co/TlQ3QSmV7z\",\n",
       " u'Brien and Jilly in London town means its a Club St meets Greek St evening. Great to see you guys \\U0001f917 @ 68 and Boston\\u2026 https://t.co/vqP6oGYEY2',\n",
       " u'feeling thankful at Planet Fitness https://t.co/Ww6l2C0Fv9',\n",
       " u'Snapchat Steals Brilliant Idea From Facebook with New Events Feature https://t.co/lBDUvOCGnX',\n",
       " u\"Remember we're running a competition for the 2019 @FIFAWWC. Make sure you get your entries in on our facebook page\\u2026 https://t.co/UtLh7wBN85\",\n",
       " u'The definition of Ruck Up... https://t.co/vRdfOFBj4P',\n",
       " u'@Wishes_She_Was @THE_shitface Same but no one knows apart from the Facebook',\n",
       " u\"@mike_br Facebook advertising actually works, really well. All they need is to give you free stuff so you'll look at it all day\",\n",
       " u'This \\u2b07 https://t.co/konI11q9sc',\n",
       " u'Salman is ex army officers and members of Royal Geographic Society. https://t.co/WjFTIyzsJj',\n",
       " u\"All the times Jeremy Hunt's name has been mispronounced https://t.co/FvwZArnWCm\",\n",
       " u'Peer-to-peer aid groups on Facebook have become a lifeline for those who can\\u2019t cover small expenses. @Taylorlorenz\\u2026 https://t.co/A6JvbIRspU',\n",
       " u'@ANKITAG50044627 confidential account related information. Please refrain from doing so and report such incidents i\\u2026 https://t.co/nq6P6ArKHy',\n",
       " u'Damn Snoop Dogg is a G! #Respekkt!! https://t.co/QJacIYKWRI',\n",
       " u'In the U.S., the openness with which scientists conduct their work mirrors the openness of American society. This t\\u2026 https://t.co/krTc9bL5wK',\n",
       " u'\\xa386,000 or US$109,287 to #charity in memory of @GeorgeMOfficial .\\nThank you all, as always for your fabulous genero\\u2026 https://t.co/V7eYVGqbCz',\n",
       " u\"Where do @theintercept's revelations on #SergioMoro &amp; Lula leave Operation Car Wash? Tuesday #F24Debate asks if the\\u2026 https://t.co/dLcSQdvmGX\",\n",
       " u'I wish all humans were as kind as this to animals\\nWhat a lovely guy https://t.co/yBM6M30RVC',\n",
       " u'Let\\u2019s test our friendship! #BoardKings https://t.co/xg4HlvBUN7 https://t.co/txOgGQAioH https://t.co/xg4HlvBUN7',\n",
       " u'Facebook is blocking ads that mention #CBD.\\nhttps://t.co/sXMo5BWRWs\\n\\nvia @GoogleNews',\n",
       " u'HYPOCRISY, UNENDING EPIDEMIC OF THE NORTH\\n\\nMany of us live in denial because of hypocrisy. Many people defend Muham\\u2026 https://t.co/arwKtbZDgm',\n",
       " u\"Q train found totally covered in graffiti on Manhattan's Upper East Side https://t.co/oIyiuaPckK\",\n",
       " u'FREE YOGA!!!\\n\\nCome and join us for International Yoga Day at Moseley Yoga \\U0001f64f https://t.co/cI9RzynjUf',\n",
       " u'#SaveMurchisonFalls by signing the petition in the link provided. This is not just a tourist attraction! This is mo\\u2026 https://t.co/gSBjoEsdyp',\n",
       " u'Would you create a Facebook avatar?\\n#Facebook #Avatar #SocialMedia https://t.co/izHW5ZTAw9',\n",
       " u'Did you know that Carmarthen Harriers has a YouTube channel? Just like our Facebook,Twitter &amp; Instagram pages, it i\\u2026 https://t.co/pWUsXAcaUO',\n",
       " u'While England things about it...Hmmm? https://t.co/IGfWtHp9GF',\n",
       " u'\"The medium is the message.\"\\n\\nMarshall McLuhan\\'s theory is more inciteful than he has been credited for. Under stre\\u2026 https://t.co/nYyVkSAB8B',\n",
       " u'Muy triste... a pain no parent wants. Buying your child death https://t.co/0c7Qz21Nn7',\n",
       " u'Durban July we are Coming with the Crew.. \\U0001f602\\U0001f602\\U0001f602\\U0001f923\\U0001f923\\U0001f923.. Sekuzo... Ny..amacala... Awuyehhe https://t.co/MmPsFy3iFn',\n",
       " u'@officalOnion For the update details please check https://t.co/uJhrwrRsL9 \\nThat could definitely be considered',\n",
       " u'71 Euro for the second related bill consisting of food for adult cats.\\nAny help is more than welcome here: paypal:\\u2026 https://t.co/u3j5Y1eLJT',\n",
       " u'@RajivMessage @myogiadityanath Why to yogiji only to ridicule or to belittle. Why he has not choosen Mamta or Mayaw\\u2026 https://t.co/qH7qUcJpHK',\n",
       " u'@GusHosein  just startled the audience that even by opening the #CogX19 app, Facebook is actually receiving the data about your usage!',\n",
       " u'Literally on ma hands and knees \\n.\\n.\\n.\\n#TransformationTuesday https://t.co/yuokr8CFku',\n",
       " u'Honestly twitter is turning to Facebook with all these trash tweets',\n",
       " u'Woahhhh\\U0001f60d\\U0001f60d https://t.co/LSC4DsrlNy',\n",
       " u'No problem ...King Rohit will win Worldcup single handedly \\U0001f60d https://t.co/ry53ElvHTo',\n",
       " u'525 @catelebon @parallellinespromotions Village Underground 10 June after swimming there on a very wet night. Insta\\u2026 https://t.co/MfMptxyZRZ',\n",
       " u'525 @catelebon @parallellinespromotions Village Underground 10 June after swimming there on a very wet night. Insta\\u2026 https://t.co/BsOniAC7oK',\n",
       " u'@Thedarkpreacher @K_4Unl \"Clear dark facebook\" using Stylish :) https://t.co/F5p1eSDyfF',\n",
       " u'525 Just caught the last song by Tim Koh Village Underground 10 June after swimming there. Instagram:\\u2026 https://t.co/Tnw7Aiu0NY',\n",
       " u'They should be killed https://t.co/cacfjednb8',\n",
       " u\"Are you interested in volunteering to raise awareness and funds for Johns Hopkins All Children's Hospital see our a\\u2026 https://t.co/mMK0fb94zd\",\n",
       " u\"nagsawa na naman ako sa memes so I deactivated my facebook account. yes that's me :)\",\n",
       " u'Ahmed Mona https://t.co/qlnj0KBSWY',\n",
       " u\"The Highlights of Astro-Vision's 81st #Astrology #Master #Class. \\U0001f60a https://t.co/Pc0nCPeOEo\",\n",
       " u'NOW AVAILABLE\\nVarious Artists ( Politics Of Dancing, Carlo, Alessio Viggiano Music, Thomas Wood)  - Beste Freunde E\\u2026 https://t.co/Z7lWp1Jwj4',\n",
       " u'explain this https://t.co/Xj2xDzFcOr',\n",
       " u'Look at him.... https://t.co/yDzvYj75Ep',\n",
       " u'i can`t believe this was 6 years ago https://t.co/Ae27Bk5Uqf',\n",
       " u'#OnThisDay1943 (11 June)\\nNo.609 Sqn ORB:\\n11 patrols, starting at 04:50. PO Turek and Sgt Ellis are shot at by a for\\u2026 https://t.co/yJgZot4Xeo',\n",
       " u'@_karan Ohhhh I didn\\u2019t realize you were not talking about \\u201cFacebook Assistant\\u201d (thought it was something living in\\u2026 https://t.co/ARXt18RZVP',\n",
       " u'ABIA provides solid service at every level.  The area continues growing and gratefully so does the airport.  It can\\u2026 https://t.co/pglrqKLKgX',\n",
       " u'Happy day dear friends with my channel Youtube https://t.co/8ByYcD5Qiu',\n",
       " u'@facebook, @Samsung, @pepsi, @Walmart are all adding #blockchain to their current tech stacks. \\U0001f5a5\\ufe0f\\u26d3\\ufe0f\\U0001f30d\\n\\nJoin\\u2026 https://t.co/HCRoEafkui',\n",
       " u'Leigh-anne Johnston https://t.co/xBZqbz2gxL',\n",
       " u'I LOVE IT!!! \\U0001f525\\U0001f525\\U0001f525\\U0001f44f\\U0001f3fd\\U0001f64c\\U0001f3fd https://t.co/r4MiDerpdp',\n",
       " u\"Is there something zapping your motivation with your business?\\nYou're losing your passion and you're starting to re\\u2026 https://t.co/kwFgMfa3HG\",\n",
       " u'Everyday these apps reminds me how old I am getting. \\U0001f92f\\U0001f92f\\U0001f629\\U0001f62d Fam this was literally yesterday for me. Maybe we should\\u2026 https://t.co/8gzk3QYpzj',\n",
       " u'Years ago I kept hearing about meditation. It was like if I cared so much about wellbeing, I had to try. I remember\\u2026 https://t.co/0EiDd5lOqG',\n",
       " u'John Fabry Thomas Alfred Bradley please can you share? Thanks https://t.co/hKFDSj0hdf',\n",
       " u'@IanOTimelord It will pretty much everywhere - other doctor who sites, galifreybase, Facebook groups! We will be up\\u2026 https://t.co/QDCRaXtAsn',\n",
       " u'I upvoted Birthdays Reminder on Product Hunt: So now you can finally delete your Facebook account\\u2026 https://t.co/TFxtfWds70',\n",
       " u'We really need enforceable interoperability, even beyond Apple. Though this may be a first step to a more forceful\\u2026 https://t.co/HC8K0PMVcS',\n",
       " u\"Remember the Mela Big Knit from last year? It was such a huge success they're doing it all over again for Middlesbr\\u2026 https://t.co/xnTSqEDJDL\",\n",
       " u'Health Ranger blasts Facebook\\u2019s ban of Natural News, says American Left creating Soviet-style society where NO ONE\\u2026 https://t.co/Ver8ArSSRA',\n",
       " u'Amen .  all just my problem I JUST LIKE BAD BOIZ AND KNIW THEY BAD BUT STILL GO FOR IT. LOLZ..\\nBUT TRUE..Y I STAY S\\u2026 https://t.co/LFdLEriWgz',\n",
       " u'Lupe Gonzalez can\\u2019t wait til we\\u2019re in Vegas sitting at a table with botellas de mezcal \\U0001f602\\U0001f926\\U0001f3fb\\u200d\\u2640\\ufe0f https://t.co/PXkFoWpLKF',\n",
       " u'https://t.co/gZDFMj0QMx\\n\\nLet us work together for a #\\u0938\\u094d\\u0935\\u091a\\u094d\\u091b_\\u092d\\u093e\\u0930\\u0924 Movement CM @DrPramodPSawant \\n\\nWhile travelling CM\\u2026 https://t.co/F0rVUxi01f',\n",
       " u'I still wish you were your dad but you\\u2019re trying https://t.co/58YaXoC0vp',\n",
       " u'Instagram\\u2019s chief says breaking it off from Facebook would make Instagram a less safe space https://t.co/nFql3XAajI https://t.co/XTZgLxNHnh',\n",
       " u'Changes to Facebook Graph Search leaves online investigators in a lurch https://t.co/ISRaoMyEwD https://t.co/YLvoG9Mbuo',\n",
       " u'How to delete FB activity Facebook Customer Service 1-855-479-3999\\n\\nhttps://t.co/8c7Vgo8ZpX',\n",
       " u\"It's #DiabetesWeek - did you know that herbal medicine can be really useful in avoidance of complications eg neurop\\u2026 https://t.co/AaheAoyZMr\",\n",
       " u\"Are you part of our exclusive community yet?\\n\\nIf you're serious about building a powerful #Amazon brand, you need t\\u2026 https://t.co/69xjkTqfZw\",\n",
       " u'I just read this and it was just hilarious \\U0001f602 \\U0001f602 \\U0001f602 https://t.co/9qCTMCkEQ3']"
      ]
     },
     "execution_count": 95,
     "metadata": {},
     "output_type": "execute_result"
    }
   ],
   "source": [
    "list_tweets"
   ]
  },
  {
   "cell_type": "code",
   "execution_count": 96,
   "metadata": {
    "collapsed": true
   },
   "outputs": [],
   "source": [
    "#Loading TD-IDF Model and Classifier\n",
    "\n",
    "with open('tfidfmode.pickle', 'rb') as f:\n",
    "    vectorizer = pickle.load(f)\n",
    "    \n",
    "with open('classifier.pickle', 'rb') as f:\n",
    "    clf = pickle.load(f)"
   ]
  },
  {
   "cell_type": "code",
   "execution_count": 97,
   "metadata": {
    "collapsed": false
   },
   "outputs": [
    {
     "data": {
      "text/plain": [
       "array([1])"
      ]
     },
     "execution_count": 97,
     "metadata": {},
     "output_type": "execute_result"
    }
   ],
   "source": [
    "clf.predict(vectorizer.transform(['You are a nice person man, have a good life']))"
   ]
  },
  {
   "cell_type": "code",
   "execution_count": 98,
   "metadata": {
    "collapsed": false
   },
   "outputs": [],
   "source": [
    "total_pos = 0\n",
    "total_neg = 0\n",
    "#Preprocessing the tweets\n",
    "for tweet in list_tweets:\n",
    "    tweet = re.sub(r\"^https://t.co/[a-zA-Z0-9]*\\s\", \" \",tweet)\n",
    "    tweet = re.sub(r\"\\s+https://t.co/[a-zA-Z0-9]*\\s\", \" \",tweet)\n",
    "    tweet = re.sub(r\"\\s+https://t.co/[a-zA-Z0-9]*$\", \" \",tweet)\n",
    "    tweet = tweet.lower()\n",
    "    tweet = re.sub(r\"that's\", \"that is\", tweet)\n",
    "    tweet = re.sub(r\"there's\", \"there is\", tweet)\n",
    "    tweet = re.sub(r\"what's\", \"what is\", tweet)\n",
    "    tweet = re.sub(r\"where's\", \"where is\", tweet)\n",
    "    tweet = re.sub(r\"it's\", \"it is\", tweet)\n",
    "    tweet = re.sub(r\"who's\", \"who is\", tweet)\n",
    "    tweet = re.sub(r\"i'm\", \"i am\", tweet)\n",
    "    tweet = re.sub(r\"she's\", \"she is\", tweet)\n",
    "    tweet = re.sub(r\"he's\", \"he is\", tweet)\n",
    "    tweet = re.sub(r\"they're\", \"they are\", tweet)\n",
    "    tweet = re.sub(r\"who're\", \"who are\", tweet)\n",
    "    tweet = re.sub(r\"ain't\", \"am not\", tweet)\n",
    "    tweet = re.sub(r\"wouldn't\", \"would not\", tweet)\n",
    "    tweet = re.sub(r\"shouldn't\", \"should not\", tweet)\n",
    "    tweet = re.sub(r\"can't\", \"can not\", tweet)\n",
    "    tweet = re.sub(r\"couldn't\", \"could not\", tweet)\n",
    "    tweet = re.sub(r\"won't\", \"will not\", tweet)\n",
    "    tweet = re.sub(r\"\\W\", \" \", tweet)\n",
    "    tweet = re.sub(r\"\\d\", \" \", tweet)\n",
    "    tweet = re.sub(r\"s+[a-z]\\s+\", \" \", tweet)\n",
    "    tweet = re.sub(r\"\\s+[a-z]$\", \" \", tweet)\n",
    "    tweet = re.sub(r\"^[a-z]\\s+\",\" \",tweet)\n",
    "    tweet = re.sub(r\"\\s+\", \" \", tweet)    \n",
    "    sent = clf.predict(vectorizer.transform([tweet]).toarray())\n",
    "    if sent[0] == 1:\n",
    "        total_pos += 1\n",
    "    else:\n",
    "        total_neg += 1"
   ]
  },
  {
   "cell_type": "code",
   "execution_count": 99,
   "metadata": {
    "collapsed": false
   },
   "outputs": [],
   "source": [
    "import matplotlib.pyplot as plt\n",
    "import numpy as np\n",
    "%matplotlib inline"
   ]
  },
  {
   "cell_type": "code",
   "execution_count": 100,
   "metadata": {
    "collapsed": false
   },
   "outputs": [],
   "source": [
    "objects = ['Positive', 'Negative']\n",
    "y_pos = np.arange(len(objects))"
   ]
  },
  {
   "cell_type": "code",
   "execution_count": 101,
   "metadata": {
    "collapsed": false
   },
   "outputs": [
    {
     "data": {
      "image/png": "[encoded data removed]",
      "text/plain": [
       "<Figure size 432x288 with 1 Axes>"
      ]
     },
     "metadata": {},
     "output_type": "display_data"
    }
   ],
   "source": [
    "plt.bar(y_pos, [total_pos, total_neg], alpha=0.5)\n",
    "plt.xticks(y_pos, objects)\n",
    "plt.ylabel('Number')\n",
    "plt.title('Number of Positive and Negative Tweets')\n",
    "plt.show()"
   ]
  },
  {
   "cell_type": "code",
   "execution_count": null,
   "metadata": {
    "collapsed": true
   },
   "outputs": [],
   "source": []
  }
 ],
 "metadata": {
  "anaconda-cloud": {},
  "kernelspec": {
   "display_name": "Python [default]",
   "language": "python",
   "name": "python2"
  },
  "language_info": {
   "codemirror_mode": {
    "name": "ipython",
    "version": 2
   },
   "file_extension": ".py",
   "mimetype": "text/x-python",
   "name": "python",
   "nbconvert_exporter": "python",
   "pygments_lexer": "ipython2",
   "version": "2.7.15"
  }
 },
 "nbformat": 4,
 "nbformat_minor": 1
}
